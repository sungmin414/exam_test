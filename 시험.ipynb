{
 "cells": [
  {
   "cell_type": "code",
   "execution_count": 6,
   "metadata": {},
   "outputs": [
    {
     "name": "stdout",
     "output_type": "stream",
     "text": [
      "-민아\n",
      "-혜리\n",
      "-유라\n",
      "-소진\n"
     ]
    }
   ],
   "source": [
    "### 1. 다음 리스트를 사용해 아래와 같은 문자열을 만들어 `girlsday_info`변수에 할당한 후, 콘솔에 내용을 출력하시오. [5점]\n",
    "\n",
    "girlsday_members = '민아,혜리,유라,소진'.split(',')\n",
    "\n",
    "for girlsday_info in girlsday_members:\n",
    "    print(f'-{girlsday_info}')"
   ]
  },
  {
   "cell_type": "code",
   "execution_count": 112,
   "metadata": {},
   "outputs": [
    {
     "name": "stdout",
     "output_type": "stream",
     "text": [
      "[0] RED : Apple\n",
      "[1] YELLOW : Banana\n",
      "[2] GREEN : Melon\n"
     ]
    }
   ],
   "source": [
    "### 2. `fruit_dict`객체를 사용해서 아래와 같은 결과값을 갖는 문자열을 만들어 `fruit_info`변수에 할당 한 후, 콘솔에 내용을 출력하시오. [10점]\n",
    "fruit_dict = {\n",
    "    'red': 'apple',\n",
    "    'yellow': 'banana',\n",
    "    'green': 'melon',\n",
    "}\n",
    "\n",
    "for index,fruit_info in enumerate(fruit_dict.items()):\n",
    "    print(f'[{index}] {fruit_info[0].upper()} : {fruit_info[1].capitalize()}')"
   ]
  },
  {
   "cell_type": "code",
   "execution_count": 113,
   "metadata": {},
   "outputs": [
    {
     "data": {
      "text/plain": [
       "[1, -99, 3]"
      ]
     },
     "execution_count": 113,
     "metadata": {},
     "output_type": "execute_result"
    }
   ],
   "source": [
    "### 3. list의 `copy()`메서드가 하는 일과, `copy()`를 사용하지 않았을 때 발생할 수 있는 오류에 대한 예제 코드를 작성하시오. [10점]\n",
    "\n",
    "\n",
    "# copy()메서드는 말그대로 리스트를 복사 하는것\n",
    "# 레퍼런스 대입 시의 문제를 해결하기위해 copy()가 존재한다\n",
    "\n",
    "a = [1, 2, 3]\n",
    "b = a\n",
    "a\n",
    "[1, 2, 3]\n",
    "b\n",
    "[1, 2, 3]\n",
    "a[1] = -99\n",
    "a\n",
    "[1, -99, 3]\n",
    "b\n",
    "[1, -99, 3]"
   ]
  },
  {
   "cell_type": "code",
   "execution_count": 137,
   "metadata": {},
   "outputs": [
    {
     "name": "stdout",
     "output_type": "stream",
     "text": [
      "[3, 7, 11, 15, 19, 23, 27]\n"
     ]
    }
   ],
   "source": [
    "### 4. 1에서 30까지의 숫자 중, 3부터 시작해서 4번째마다의 숫자를 가지는 리스트를 생성하시오. [5점]\n",
    "\n",
    "result = []\n",
    "for a in range(1,31):\n",
    "    result.append(a)\n",
    "print(result[2::4])\n"
   ]
  },
  {
   "cell_type": "code",
   "execution_count": null,
   "metadata": {},
   "outputs": [],
   "source": [
    "### 5. dict형 객체인 `obj`가 있다고 할 때, `obj['key']`와 `obj.get('key')`의 차이를 서술하시오. [5점]\n",
    "\n",
    "\n",
    "# obj['key']를 쓰면 오류를 발생시키고\n",
    "# obj.get('key')를 쓰면 오류가 발생하지 않고 None값을 리턴한다\n"
   ]
  },
  {
   "cell_type": "code",
   "execution_count": 159,
   "metadata": {},
   "outputs": [
    {
     "name": "stdout",
     "output_type": "stream",
     "text": [
      "('피카츄', '전기 타입')\n",
      "('파이리', '불 타입')\n",
      "('꼬부기', '물 타입')\n",
      "('이상해씨', '풀 타입')\n"
     ]
    }
   ],
   "source": [
    "### 6. 튜플 언패킹에 대해 서술하고, `pokemon_info` 객체를 순회할 때 튜플 언패킹을 사용하는 예제 코드를 작성하시오. [10점]\n",
    "\n",
    "\n",
    "#     패킹된 변수에서 여러개의 값을 꺼내오는 것\n",
    "\n",
    "pokemon_info = [\n",
    "    ('피카츄', '전기 타입'),\n",
    "    ('파이리', '불 타입'),\n",
    "    ('꼬부기', '물 타입'),\n",
    "    ('이상해씨', '풀 타입'),\n",
    "]\n",
    "\n",
    "a, b, c ,d = pokemon_info\n",
    "\n",
    "print(a)\n",
    "print(b)\n",
    "print(c)\n",
    "print(d)"
   ]
  },
  {
   "cell_type": "code",
   "execution_count": 161,
   "metadata": {},
   "outputs": [],
   "source": [
    "### 7. 함수에서 위치인자와 키워드인자의 차이점에 대해 서술하시오. [5점]\n",
    "\n",
    "#     위치인자는 매개변수의 순서대로 인자를 전달하여 사용하는 것\n",
    "#     키워드인자는 매개변수의 이름을 지정하여 인자로 전달하여 사용하는 것"
   ]
  },
  {
   "cell_type": "code",
   "execution_count": 162,
   "metadata": {},
   "outputs": [],
   "source": [
    "### 8. 클래스와 인스턴스의 다음 사항들에 대해 서술하시오.\n",
    "\n",
    "# - 클래스와 인스턴스의 차이점 [2점]\n",
    "\n",
    "#     클래스는 함수나 변수들을 모아 놓은 집합체\n",
    "#     인스턴스는 클래스에 의해 생성된 객체, 인스턴스 각자 자신의 값을 가지고있음\n",
    "\n",
    "# - 클래스의 생성자 함수 이름 [1점]\n",
    "    \n",
    "#     def __init__(self):\n",
    "\n",
    "# - 클래스의 생성자 함수가 호출되는 시점은? [2점]\n",
    "\n",
    "#     객체를 초기화 할때 사용\n",
    "\n",
    "# - 인스턴스 메서드의 `self`매개변수의 의미 [4점]\n",
    "\n",
    "#     상태를 확인하거나 조작하는데에 사용"
   ]
  },
  {
   "cell_type": "code",
   "execution_count": 163,
   "metadata": {},
   "outputs": [],
   "source": [
    "### 9. `property`를 정의하는 방법에 대해 서술하시오. [5점]\n",
    "\n",
    "#     외부로부터 바로 접근할 수 없는 prviate 객체 속성을 지원\n",
    "#     사용자가 속성에 직접 접근을 막기 위해 getter 또는 setter 메서드 대신에 프로퍼티 property 를 사용\n",
    "\n",
    "# - `getter`를 만드는 방법에 대해 서술: 2점\n",
    "\n",
    "#     @property\n",
    "    \n",
    "\n",
    "# - `setter`를 만드는 방법에 대해 서술: 3점\n",
    "\n",
    "#     @메소드이름.stter"
   ]
  },
  {
   "cell_type": "code",
   "execution_count": 166,
   "metadata": {},
   "outputs": [],
   "source": [
    "### 10. 아래와 같은 `User`클래스가 있다. 이 클래스를 상속받은 `Student`클래스를 정의하고, \n",
    "# 초기화 메서드에서 `name`과 함께`age`라는 매개변수를 추가로 사용해 인스턴스의 `age`속성을 추가로 정의하도록 한다. [10점]\n",
    "\n",
    "class User:\n",
    "    def __init__(self, name):\n",
    "        self.name = name\n",
    "    \n",
    "    \n",
    "class Student(User):\n",
    "    def __init__(self, name, age):\n",
    "        super().__init__(name)\n",
    "        self.age = age\n",
    "\n"
   ]
  },
  {
   "cell_type": "code",
   "execution_count": 2,
   "metadata": {},
   "outputs": [
    {
     "name": "stdout",
     "output_type": "stream",
     "text": [
      "입롤의 신 - 파이크편 감상평 이벤트 당첨자 안내\n",
      "6월 15일 (금) Toss 결제 서비스 점검 안내\n",
      "인형 30% 할인 프로모션\n",
      "6월 13일(수) 서버 점검 및 업데이트 안내 (완료)\n",
      "대리 게임 등 적발 현황 263차 안내\n",
      "부정행위 프로그램 제재 현황 안내\n",
      "6월 2차 소환사 문화재지킴이 모집 안내\n",
      "일부 클라이언트 오류 현상에 대한 안내 (정상화)\n",
      "6월 6일(수) 서버 점검 안내 (완료)\n",
      "PBE 인사이드 20화(8.12 패치 편) 방송 안내\n"
     ]
    }
   ],
   "source": [
    "### 11. `url`주소로부터 아래 결과를 출력한다. [10점]\n",
    "\n",
    "import os\n",
    "from urllib import parse\n",
    "\n",
    "import requests\n",
    "from bs4 import BeautifulSoup\n",
    "\n",
    "file_path = 'data/lol_list.html'\n",
    "url = 'http://www.leagueoflegends.co.kr/?m=news&cate=notice'\n",
    "\n",
    "if os.path.exists(file_path):\n",
    "    html = open(file_path,'rt').read()\n",
    "\n",
    "else:\n",
    "    response = requests.get(url)\n",
    "    html = response.text\n",
    "    open(file_path,'wt').write(html)\n",
    "\n",
    "\n",
    "soup = BeautifulSoup(html,'lxml')\n",
    "\n",
    "\n",
    "table = soup.select_one('table.request-list')\n",
    "tr_list = table.select('td > a')\n",
    "\n",
    "for a in tr_list:\n",
    "    print(f'{a.string}')\n",
    "\n"
   ]
  },
  {
   "cell_type": "code",
   "execution_count": 3,
   "metadata": {},
   "outputs": [],
   "source": [
    "\n",
    "### 12. `url`주소에 있는 공지사항에 해당하는 `Notice`클래스를 만들고, 크롤링시 공지사항 하나마다 `Notice`클래스 인스턴스를 만들어 `notice_list`리스트에 추가한다. [10점]\n",
    "\n",
    "\n"
   ]
  },
  {
   "cell_type": "code",
   "execution_count": null,
   "metadata": {},
   "outputs": [],
   "source": [
    "### 13. runserver가 localhost:8000에서 입력을 받는 상태로 동작 중일 때, 브라우저에서 `http://localhost:8000/abc/`URL을 입력하면 어떤 절차를 거쳐 사용자에게 다시 화면을 보여주는지 서술하시오. [10점]\n",
    "\n",
    "#     Browser -> request -> Django -> urlresolver -> view function -> return HttpResponse\n",
    "#         config urls -> abc urls -> views function -> return "
   ]
  },
  {
   "cell_type": "code",
   "execution_count": null,
   "metadata": {},
   "outputs": [],
   "source": []
  },
  {
   "cell_type": "code",
   "execution_count": null,
   "metadata": {},
   "outputs": [],
   "source": []
  },
  {
   "cell_type": "code",
   "execution_count": null,
   "metadata": {},
   "outputs": [],
   "source": []
  }
 ],
 "metadata": {
  "kernelspec": {
   "display_name": "Python 3",
   "language": "python",
   "name": "python3"
  },
  "language_info": {
   "codemirror_mode": {
    "name": "ipython",
    "version": 3
   },
   "file_extension": ".py",
   "mimetype": "text/x-python",
   "name": "python",
   "nbconvert_exporter": "python",
   "pygments_lexer": "ipython3",
   "version": "3.6.5"
  }
 },
 "nbformat": 4,
 "nbformat_minor": 2
}
